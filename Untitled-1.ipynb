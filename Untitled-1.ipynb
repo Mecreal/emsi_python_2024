{
 "cells": [
  {
   "cell_type": "code",
   "execution_count": 40,
   "metadata": {},
   "outputs": [
    {
     "name": "stdout",
     "output_type": "stream",
     "text": [
      "[1, 2, 3, 4, 5, 2, 4]\n",
      "[1, 2, 3, 4, 5, 2, 4, 6]\n"
     ]
    }
   ],
   "source": [
    "ma_list = [1, 2, 3, 4, 5, 2, 4]\n",
    "\n",
    "print(ma_list)\n",
    "\n",
    "ma_list.append(6) # ajoute un élément à la fin de la liste\n",
    "print(ma_list)"
   ]
  },
  {
   "cell_type": "code",
   "execution_count": 41,
   "metadata": {},
   "outputs": [
    {
     "name": "stdout",
     "output_type": "stream",
     "text": [
      "<class 'list'>\n",
      "1\n",
      "2\n",
      "6\n",
      "6\n"
     ]
    }
   ],
   "source": [
    "print(type(ma_list))\n",
    "\n",
    "print(ma_list[0]) # affiche le premier élément de la liste\n",
    "print(ma_list[1]) # affiche le deuxième élément de la liste\n",
    "print(ma_list[7]) # affiche le dernier élément de la liste\n",
    "print(ma_list[-1]) # affiche le dernier élément de la liste"
   ]
  },
  {
   "cell_type": "code",
   "execution_count": 42,
   "metadata": {},
   "outputs": [
    {
     "name": "stdout",
     "output_type": "stream",
     "text": [
      "[2, 3, 4, 5, 2, 4, 6]\n",
      "[1, 2, 3, 4]\n"
     ]
    }
   ],
   "source": [
    "print(ma_list[1:]) # affiche tous les éléments de la liste à partir du deuxième\n",
    "\n",
    "print(ma_list[:4]) # affiche tous les éléments de la liste jusqu'au quatrième\n"
   ]
  },
  {
   "cell_type": "code",
   "execution_count": 43,
   "metadata": {},
   "outputs": [
    {
     "name": "stdout",
     "output_type": "stream",
     "text": [
      "['I', 'Love', 'Python']\n"
     ]
    }
   ],
   "source": [
    "new_list = [\"I\",\"Love\",\"Python\"]\n",
    "\n",
    "print(new_list)"
   ]
  },
  {
   "cell_type": "code",
   "execution_count": 44,
   "metadata": {},
   "outputs": [
    {
     "name": "stdout",
     "output_type": "stream",
     "text": [
      "Python\n"
     ]
    }
   ],
   "source": [
    "print(new_list[-1])\n",
    "\n",
    "new_list[1] = \"Hate\" # remplace le deuxième élément de la liste"
   ]
  },
  {
   "cell_type": "code",
   "execution_count": 45,
   "metadata": {},
   "outputs": [
    {
     "name": "stdout",
     "output_type": "stream",
     "text": [
      "['I', 'Hate', 'Python']\n"
     ]
    }
   ],
   "source": [
    "print(new_list)"
   ]
  },
  {
   "cell_type": "code",
   "execution_count": 46,
   "metadata": {},
   "outputs": [
    {
     "name": "stdout",
     "output_type": "stream",
     "text": [
      "[[1, 2, 3], [4, 5, 6], [7, 8, 9]]\n",
      "6\n"
     ]
    }
   ],
   "source": [
    "list_2D = [[1,2,3],[4,5,6],[7,8,9]]\n",
    "\n",
    "print(list_2D)\n",
    "\n",
    "print(list_2D[1][2]) # affiche le premier élément de la première liste"
   ]
  },
  {
   "cell_type": "code",
   "execution_count": 47,
   "metadata": {},
   "outputs": [
    {
     "name": "stdout",
     "output_type": "stream",
     "text": [
      "[[1, 2, 3], [4, 5, 10], [7, 8, 9]]\n"
     ]
    }
   ],
   "source": [
    "list_2D[1][2] = 10 # remplace le premier élément de la première liste\n",
    "\n",
    "print(list_2D)"
   ]
  },
  {
   "cell_type": "code",
   "execution_count": 48,
   "metadata": {},
   "outputs": [
    {
     "data": {
      "text/plain": [
       "[[4, 5, 10]]"
      ]
     },
     "execution_count": 48,
     "metadata": {},
     "output_type": "execute_result"
    }
   ],
   "source": [
    "list_2D[0:2][1:]"
   ]
  },
  {
   "cell_type": "code",
   "execution_count": 49,
   "metadata": {},
   "outputs": [
    {
     "name": "stdout",
     "output_type": "stream",
     "text": [
      "1\n",
      "2\n",
      "3\n",
      "4\n",
      "5\n",
      "2\n",
      "4\n",
      "6\n",
      "0 1\n",
      "1 2\n",
      "2 3\n",
      "3 4\n",
      "4 5\n",
      "5 2\n",
      "6 4\n",
      "7 6\n",
      "0 1\n",
      "1 2\n",
      "2 3\n",
      "3 4\n",
      "4 5\n",
      "5 2\n",
      "6 4\n",
      "7 6\n"
     ]
    }
   ],
   "source": [
    "# Parcourir une liste\n",
    "for el in ma_list:\n",
    "    print(el)\n",
    "\n",
    "# Parcourir une liste avec l'index\n",
    "for i, el in enumerate(ma_list):\n",
    "    print(i, el)\n",
    "\n",
    "# Parcourir une liste avec l'index et la valeur\n",
    "\n",
    "for i in range(len(ma_list)):\n",
    "    print(i, ma_list[i])\n",
    "    "
   ]
  },
  {
   "cell_type": "code",
   "execution_count": 50,
   "metadata": {},
   "outputs": [
    {
     "name": "stdout",
     "output_type": "stream",
     "text": [
      "[1, 2, 3, 4, 5, 2, 4, 6]\n",
      "2\n",
      "1\n",
      "Nombre d'élement 8\n",
      "[1, 2, 3, 3, 5, 2, 4, 6, 1]\n"
     ]
    }
   ],
   "source": [
    "print(ma_list) # affiche la liste\n",
    "print(ma_list.count(2)) # compte le nombre d'éléments 2 dans la liste\n",
    "print(ma_list.index(2)) # affiche l'index de l'élément 2\n",
    "print(\"Nombre d'élement\", len(ma_list)) # affiche la longueur de la liste\n",
    "ma_list.append(1) # ajoute un élément à la fin de la liste\n",
    "ma_list.append(2) # ajoute un élément à la fin de la liste\n",
    "ma_list.pop() # supprime le dernier élément de la liste\n",
    "ma_list.remove(4) # supprime l'élément 1 de la liste\n",
    "ma_list.insert(2, 3) # insère l'élément 3 à la position 0\n",
    "print(ma_list)"
   ]
  },
  {
   "cell_type": "code",
   "execution_count": 51,
   "metadata": {},
   "outputs": [
    {
     "name": "stdout",
     "output_type": "stream",
     "text": [
      "[1, 3, 3, 5, 4, 6, 1]\n"
     ]
    }
   ],
   "source": [
    "while ma_list.count(2) > 0:\n",
    "    ma_list.remove(2)\n",
    "\n",
    "print(ma_list)"
   ]
  },
  {
   "cell_type": "code",
   "execution_count": 52,
   "metadata": {},
   "outputs": [
    {
     "name": "stdout",
     "output_type": "stream",
     "text": [
      "[1, 3, 3, 5, 4, 6, 1]\n"
     ]
    }
   ],
   "source": [
    "print(ma_list)"
   ]
  },
  {
   "cell_type": "code",
   "execution_count": 53,
   "metadata": {},
   "outputs": [
    {
     "name": "stdout",
     "output_type": "stream",
     "text": [
      "[1, 1, 3, 3, 4, 5, 6]\n",
      "[6, 5, 4, 3, 3, 1, 1]\n"
     ]
    }
   ],
   "source": [
    "ma_list.sort() # trie la liste\n",
    "print(ma_list)\n",
    "\n",
    "ma_list.reverse() # inverse la liste\n",
    "print(ma_list)\n",
    "\n",
    "\n"
   ]
  },
  {
   "cell_type": "code",
   "execution_count": 54,
   "metadata": {},
   "outputs": [
    {
     "name": "stdout",
     "output_type": "stream",
     "text": [
      "ma_list [6, 5, 4, 3, 3, 1, 1]\n",
      "ma_list2 [6, 5, 4, 3, 3, 1, 1]\n",
      "ma_list3 [6, 5, 4, 3, 3, 1, 1]\n",
      "ma_list [10, 5, 4, 3, 3, 1, 1]\n",
      "ma_list3 [10, 5, 4, 3, 3, 1, 1]\n",
      "ma_list [10, 5, 4, 3, 3, 1, 1]\n",
      "ma_list2 [20, 5, 4, 3, 3, 1, 1]\n"
     ]
    }
   ],
   "source": [
    "ma_list2 = ma_list.copy() # copie la liste\n",
    "ma_list3 = ma_list # copie le nom de la liste\n",
    "\n",
    "print(\"ma_list\",ma_list)\n",
    "print(\"ma_list2\",ma_list2)\n",
    "print(\"ma_list3\",ma_list3)\n",
    "\n",
    "ma_list3[0] = 10 # modifie le premier élément de la liste\n",
    "print(\"ma_list\",ma_list)\n",
    "print(\"ma_list3\",ma_list3)\n",
    "\n",
    "ma_list2[0] = 20 # modifie le premier élément de la liste\n",
    "print(\"ma_list\",ma_list)\n",
    "print(\"ma_list2\",ma_list2)\n"
   ]
  },
  {
   "cell_type": "code",
   "execution_count": 62,
   "metadata": {},
   "outputs": [
    {
     "name": "stdout",
     "output_type": "stream",
     "text": [
      "[1, 2, 3, 4, 5, 6]\n"
     ]
    }
   ],
   "source": [
    "# oppération sur les listes\n",
    "\n",
    "list1 = [1,2,3]\n",
    "list2 = [4,5,6]\n",
    "\n",
    "list3 = list1 + list2 # concatène les deux listes\n",
    "print(list3)"
   ]
  },
  {
   "cell_type": "code",
   "execution_count": 56,
   "metadata": {},
   "outputs": [],
   "source": [
    "import numpy as np\n"
   ]
  },
  {
   "cell_type": "code",
   "execution_count": 64,
   "metadata": {},
   "outputs": [
    {
     "name": "stdout",
     "output_type": "stream",
     "text": [
      "[5 7 9]\n",
      "[-3 -3 -3]\n",
      "[ 4 10 18]\n",
      "[0.25 0.4  0.5 ]\n",
      "[1 2 3]\n",
      "[  1  32 729]\n",
      "[1 4 9]\n"
     ]
    }
   ],
   "source": [
    "list1 = np.array([1,2,3])\n",
    "list2 = np.array([4,5,6])\n",
    "\n",
    "list3 = list1 + list2 # additionne les deux listes\n",
    "print(list3)\n",
    "list3 = list1 - list2 # soustrait les deux listes\n",
    "print(list3)\n",
    "list3 = list1 * list2 # multiplie les deux listes\n",
    "print(list3)\n",
    "list3 = list1 / list2 # divise les deux listes\n",
    "print(list3)\n",
    "list3 = list1 % list2 # modulo les deux listes\n",
    "print(list3)\n",
    "list3 = list1 ** list2 # puissance les deux listes\n",
    "print(list3)\n",
    "list3 = list1 ** 2 # puissance les deux listes\n",
    "\n",
    "\n",
    "print(list3)"
   ]
  },
  {
   "cell_type": "code",
   "execution_count": 58,
   "metadata": {},
   "outputs": [
    {
     "name": "stdout",
     "output_type": "stream",
     "text": [
      "[5 7 9]\n"
     ]
    }
   ],
   "source": [
    "print(list3)"
   ]
  },
  {
   "cell_type": "code",
   "execution_count": 59,
   "metadata": {},
   "outputs": [
    {
     "name": "stdout",
     "output_type": "stream",
     "text": [
      "(1, 2, 3, 4, 5, 2, 4)\n",
      "<class 'tuple'>\n",
      "1\n",
      "2\n"
     ]
    }
   ],
   "source": [
    "my_tuple = (1, 2, 3, 4, 5, 2, 4)\n",
    "\n",
    "print(my_tuple)\n",
    "\n",
    "print(type(my_tuple))\n",
    "\n",
    "print(my_tuple[0]) # affiche le premier élément du tuple\n",
    "\n",
    "print(my_tuple[1]) # affiche le deuxième élément du tuple\n",
    "\n"
   ]
  },
  {
   "cell_type": "code",
   "execution_count": 60,
   "metadata": {},
   "outputs": [
    {
     "ename": "TypeError",
     "evalue": "'tuple' object does not support item assignment",
     "output_type": "error",
     "traceback": [
      "\u001b[0;31m---------------------------------------------------------------------------\u001b[0m",
      "\u001b[0;31mTypeError\u001b[0m                                 Traceback (most recent call last)",
      "Cell \u001b[0;32mIn[60], line 1\u001b[0m\n\u001b[0;32m----> 1\u001b[0m \u001b[43mmy_tuple\u001b[49m\u001b[43m[\u001b[49m\u001b[38;5;241;43m1\u001b[39;49m\u001b[43m]\u001b[49m \u001b[38;5;241m=\u001b[39m \u001b[38;5;241m10\u001b[39m \u001b[38;5;66;03m# modifie le deuxième élément du tuple\u001b[39;00m\n",
      "\u001b[0;31mTypeError\u001b[0m: 'tuple' object does not support item assignment"
     ]
    }
   ],
   "source": [
    "\n",
    "my_tuple[1] = 10 # modifie le deuxième élément du tuple"
   ]
  },
  {
   "cell_type": "code",
   "execution_count": 32,
   "metadata": {},
   "outputs": [],
   "source": [
    "my_list2 = [x for x in range(10)] # crée une liste de 0 à 9"
   ]
  },
  {
   "cell_type": "code",
   "execution_count": null,
   "metadata": {},
   "outputs": [],
   "source": [
    "my_list2= []\n",
    "\n",
    "for x in range(10):\n",
    "    my_list2.append(x)"
   ]
  },
  {
   "cell_type": "code",
   "execution_count": 33,
   "metadata": {},
   "outputs": [
    {
     "name": "stdout",
     "output_type": "stream",
     "text": [
      "[0, 1, 2, 3, 4, 5, 6, 7, 8, 9]\n"
     ]
    }
   ],
   "source": [
    "print(my_list2)"
   ]
  },
  {
   "cell_type": "code",
   "execution_count": null,
   "metadata": {},
   "outputs": [
    {
     "name": "stdout",
     "output_type": "stream",
     "text": [
      "exercise de devinette\n",
      "Pensee a un nombre entre 0 et 100\n",
      "Est-ce que le nombre est plus grand que 50 ?Est-ce que le nombre est plus grand que 25 ?"
     ]
    }
   ],
   "source": [
    "print(\"exercise de devinette\")\n",
    "\n",
    "print(\"Pensee a un nombre entre 0 et 100\")\n",
    "\n",
    "min = 0\n",
    "max = 100\n",
    "i = 1\n",
    "mid = 50\n",
    "while i<8:\n",
    "\n",
    "    if min == max:\n",
    "        print(\"Le nombre est\", mid)\n",
    "        break\n",
    "    print(\"Est-ce que le nombre est plus grand que\", mid, \"?\", end=\"\")\n",
    "    ouinon = input(\"oui ou non\")\n",
    "    if ouinon == \"oui\":\n",
    "        min = mid\n",
    "    else:\n",
    "        max = mid\n",
    "    mid = (min + max) // 2\n",
    "    i += 1\n"
   ]
  },
  {
   "cell_type": "code",
   "execution_count": 3,
   "metadata": {},
   "outputs": [],
   "source": [
    "import random"
   ]
  },
  {
   "cell_type": "code",
   "execution_count": 5,
   "metadata": {},
   "outputs": [],
   "source": [
    "liste = [random.randint(1,10) for i in range(100)]"
   ]
  },
  {
   "cell_type": "code",
   "execution_count": 7,
   "metadata": {},
   "outputs": [
    {
     "name": "stdout",
     "output_type": "stream",
     "text": [
      "[7, 2, 4, 6, 5, 10, 6, 2, 1, 3, 5, 2, 1, 8, 6, 1, 1, 6, 8, 10, 9, 6, 2, 4, 3, 1, 4, 7, 1, 2, 6, 6, 2, 4, 6, 7, 1, 3, 5, 10, 1, 3, 1, 9, 3, 5, 5, 3, 3, 5, 7, 9, 2, 4, 9, 4, 7, 7, 9, 9, 9, 1, 8, 5, 5, 6, 3, 2, 10, 6, 3, 5, 10, 9, 4, 10, 4, 8, 7, 6, 5, 8, 5, 4, 8, 7, 4, 8, 7, 6, 1, 3, 9, 1, 3, 6, 6, 4, 2, 10]\n"
     ]
    }
   ],
   "source": [
    "print(liste)"
   ]
  },
  {
   "cell_type": "code",
   "execution_count": 42,
   "metadata": {},
   "outputs": [
    {
     "name": "stdout",
     "output_type": "stream",
     "text": [
      "{1, 2, 3, 4, 5, 6, 7, 8, 9, 10}\n"
     ]
    }
   ],
   "source": [
    "set_liste = set(liste)\n",
    "\n",
    "print(set_liste)"
   ]
  },
  {
   "cell_type": "code",
   "execution_count": 43,
   "metadata": {},
   "outputs": [],
   "source": [
    "set2 = {2,3,4,6,7,8,22,12}"
   ]
  },
  {
   "cell_type": "code",
   "execution_count": 44,
   "metadata": {},
   "outputs": [
    {
     "data": {
      "text/plain": [
       "{2, 3, 4, 6, 7, 8}"
      ]
     },
     "execution_count": 44,
     "metadata": {},
     "output_type": "execute_result"
    }
   ],
   "source": [
    "set_liste.intersection(set2) # intersection des deux ensembles"
   ]
  },
  {
   "cell_type": "code",
   "execution_count": 45,
   "metadata": {},
   "outputs": [],
   "source": [
    "set2.add(10) # ajoute un élément à l'ensemble"
   ]
  },
  {
   "cell_type": "code",
   "execution_count": 46,
   "metadata": {},
   "outputs": [],
   "source": [
    "set2.remove(8) # supprime un élément de l'ensemble"
   ]
  },
  {
   "cell_type": "code",
   "execution_count": 52,
   "metadata": {},
   "outputs": [],
   "source": [
    "set3 = set2.union(set_liste) # union des deux ensembles\n",
    "set3.remove(8)"
   ]
  },
  {
   "cell_type": "code",
   "execution_count": 63,
   "metadata": {},
   "outputs": [],
   "source": [
    "del(liste[0]) # supprime le premier élément de la liste"
   ]
  },
  {
   "cell_type": "code",
   "execution_count": 54,
   "metadata": {},
   "outputs": [
    {
     "name": "stdout",
     "output_type": "stream",
     "text": [
      "{1, 2, 3, 4, 5, 6, 7, 9, 10, 12, 22}\n"
     ]
    },
    {
     "data": {
      "text/plain": [
       "{12, 22}"
      ]
     },
     "execution_count": 54,
     "metadata": {},
     "output_type": "execute_result"
    }
   ],
   "source": [
    "print(set3)\n",
    "\n",
    "set2.difference(set_liste) # différence des deux ensembles"
   ]
  },
  {
   "cell_type": "code",
   "execution_count": 55,
   "metadata": {},
   "outputs": [
    {
     "data": {
      "text/plain": [
       "{1, 5, 8, 9, 12, 22}"
      ]
     },
     "execution_count": 55,
     "metadata": {},
     "output_type": "execute_result"
    }
   ],
   "source": [
    "set2.symmetric_difference(set_liste) # différence symétrique des deux ensembles"
   ]
  },
  {
   "cell_type": "code",
   "execution_count": 20,
   "metadata": {},
   "outputs": [],
   "source": [
    "lis=list(set2) # trie l'ensemble\n",
    "lis.sort()"
   ]
  },
  {
   "cell_type": "code",
   "execution_count": 21,
   "metadata": {},
   "outputs": [
    {
     "name": "stdout",
     "output_type": "stream",
     "text": [
      "[2, 3, 4, 6, 7, 10, 12, 22]\n"
     ]
    }
   ],
   "source": [
    "print(lis)"
   ]
  },
  {
   "cell_type": "code",
   "execution_count": 57,
   "metadata": {},
   "outputs": [],
   "source": [
    "Eleve = {'Nom': 'Dupont', 'Prenom': 'Jean', 'Age': 25, 'Notes': [12, 15, 17, 14]}"
   ]
  },
  {
   "cell_type": "code",
   "execution_count": 58,
   "metadata": {},
   "outputs": [
    {
     "data": {
      "text/plain": [
       "'Dupont'"
      ]
     },
     "execution_count": 58,
     "metadata": {},
     "output_type": "execute_result"
    }
   ],
   "source": [
    "Eleve[\"Nom\"]"
   ]
  },
  {
   "cell_type": "code",
   "execution_count": 59,
   "metadata": {},
   "outputs": [
    {
     "data": {
      "text/plain": [
       "[12, 15, 17, 14]"
      ]
     },
     "execution_count": 59,
     "metadata": {},
     "output_type": "execute_result"
    }
   ],
   "source": [
    "Eleve['Notes']"
   ]
  },
  {
   "cell_type": "code",
   "execution_count": 60,
   "metadata": {},
   "outputs": [],
   "source": [
    "Eleve['Notes'][0] # affiche la première note\n",
    "\n",
    "Eleve['Notes'][0] = 10 # modifie la première note"
   ]
  },
  {
   "cell_type": "code",
   "execution_count": 61,
   "metadata": {},
   "outputs": [
    {
     "name": "stdout",
     "output_type": "stream",
     "text": [
      "{'Nom': 'Dupont', 'Prenom': 'Jean', 'Age': 25, 'Notes': [10, 15, 17, 14]}\n"
     ]
    }
   ],
   "source": [
    "print(Eleve)"
   ]
  },
  {
   "cell_type": "code",
   "execution_count": 62,
   "metadata": {},
   "outputs": [
    {
     "name": "stdout",
     "output_type": "stream",
     "text": [
      "{'Nom': 'Dupont', 'Prenom': 'K', 'Age': 25, 'Notes': [10, 15, 17, 14]}\n"
     ]
    }
   ],
   "source": [
    "Eleve[\"Prenom\"] = \"K\" # modifie le prénom\n",
    "\n",
    "print(Eleve)"
   ]
  },
  {
   "cell_type": "code",
   "execution_count": 30,
   "metadata": {},
   "outputs": [
    {
     "name": "stdout",
     "output_type": "stream",
     "text": [
      "{'Nom': 'Dupont', 'Prenom': 'K', 'Age': 25, 'Notes': [10, 15, 17, 14], 'Adresse': 'Casa'}\n"
     ]
    }
   ],
   "source": [
    "Eleve['Adresse'] = 'Casa' # ajoute une adresse\n",
    "\n",
    "print(Eleve)"
   ]
  },
  {
   "cell_type": "code",
   "execution_count": null,
   "metadata": {},
   "outputs": [],
   "source": [
    "del(Eleve[\"Adresse\"]) # supprime l'adresse"
   ]
  },
  {
   "cell_type": "code",
   "execution_count": 33,
   "metadata": {},
   "outputs": [
    {
     "name": "stdout",
     "output_type": "stream",
     "text": [
      "{'Nom': 'Dupont', 'Prenom': 'K', 'Age': 25, 'Notes': [10, 15, 17, 14]}\n"
     ]
    }
   ],
   "source": [
    "print(Eleve)"
   ]
  },
  {
   "cell_type": "code",
   "execution_count": 34,
   "metadata": {},
   "outputs": [
    {
     "data": {
      "text/plain": [
       "dict_keys(['Nom', 'Prenom', 'Age', 'Notes'])"
      ]
     },
     "execution_count": 34,
     "metadata": {},
     "output_type": "execute_result"
    }
   ],
   "source": [
    "Eleve.keys() # affiche les clés"
   ]
  },
  {
   "cell_type": "code",
   "execution_count": 35,
   "metadata": {},
   "outputs": [
    {
     "data": {
      "text/plain": [
       "dict_values(['Dupont', 'K', 25, [10, 15, 17, 14]])"
      ]
     },
     "execution_count": 35,
     "metadata": {},
     "output_type": "execute_result"
    }
   ],
   "source": [
    "Eleve.values() # affiche les valeurs"
   ]
  },
  {
   "cell_type": "code",
   "execution_count": 36,
   "metadata": {},
   "outputs": [
    {
     "data": {
      "text/plain": [
       "dict_items([('Nom', 'Dupont'), ('Prenom', 'K'), ('Age', 25), ('Notes', [10, 15, 17, 14])])"
      ]
     },
     "execution_count": 36,
     "metadata": {},
     "output_type": "execute_result"
    }
   ],
   "source": [
    "Eleve.items() # affiche les clés et les valeurs"
   ]
  },
  {
   "cell_type": "code",
   "execution_count": 65,
   "metadata": {},
   "outputs": [
    {
     "name": "stdout",
     "output_type": "stream",
     "text": [
      "ma clé: Nom , ma valeur: Dupont\n",
      "ma clé: Prenom , ma valeur: K\n",
      "ma clé: Age , ma valeur: 25\n",
      "ma clé: Notes , ma valeur: [10, 15, 17, 14]\n"
     ]
    }
   ],
   "source": [
    "for key, value in Eleve.items():\n",
    "    print(\"ma clé:\", key, \", ma valeur:\", value)"
   ]
  },
  {
   "cell_type": "code",
   "execution_count": 41,
   "metadata": {},
   "outputs": [
    {
     "name": "stdout",
     "output_type": "stream",
     "text": [
      "C'est le nom\n",
      "La valeur est Dupont\n",
      "La valeur est Karim\n"
     ]
    }
   ],
   "source": [
    "for key, value in Eleve.items():\n",
    "    if key == \"Nom\":\n",
    "        print(\"C'est le nom\")\n",
    "        print(\"La valeur est\", value)\n",
    "\n",
    "    if key == \"Prenom\":\n",
    "        value = \"Karim\"\n",
    "        print(\"La valeur est\", value)"
   ]
  },
  {
   "cell_type": "code",
   "execution_count": null,
   "metadata": {
    "vscode": {
     "languageId": "javascript"
    }
   },
   "outputs": [],
   "source": [
    "students = {\n",
    "    'Alice': {'Age': 24, 'Grade': 'A'},\n",
    "    'Bob': {'Age': 22, 'Grade': 'B'},\n",
    "    'Charlie': {'Age': 23, 'Grade': 'C'}\n",
    "}\n",
    "\n",
    "print(students)"
   ]
  },
  {
   "cell_type": "code",
   "execution_count": 71,
   "metadata": {
    "vscode": {
     "languageId": "javascript"
    }
   },
   "outputs": [
    {
     "name": "stdout",
     "output_type": "stream",
     "text": [
      "0 Alice\n",
      "1 Bob\n",
      "2 Charlie\n"
     ]
    }
   ],
   "source": [
    "ma_liste = ['Alice', 'Bob', 'Charlie']\n",
    "\n",
    "for indice,student in enumerate(ma_liste):\n",
    "    print(indice,student)"
   ]
  },
  {
   "cell_type": "code",
   "execution_count": 73,
   "metadata": {},
   "outputs": [
    {
     "name": "stdout",
     "output_type": "stream",
     "text": [
      "[{'Nom': 'Dupont', 'Prenom': 'Jean', 'Age': 25, 'Notes': [12, 15, 17, 14]}, {'Nom': 'Martin', 'Prenom': 'Marie', 'Age': 22, 'Notes': [14, 16, 18, 13]}, {'Nom': 'Durand', 'Prenom': 'Paul', 'Age': 23, 'Notes': [11, 14, 16, 12]}, {'Nom': 'Petit', 'Prenom': 'Lucie', 'Age': 24, 'Notes': [13, 15, 17, 15]}]\n"
     ]
    }
   ],
   "source": [
    "eleves = [\n",
    "    {'Nom': 'Dupont',\n",
    "     'Prenom': 'Jean',\n",
    "     'Age': 25,\n",
    "     'Notes': [12, 15, 17, 14]\n",
    "     },\n",
    "    {'Nom': 'Martin',\n",
    "     'Prenom': 'Marie', 'Age': 22, 'Notes': [14, 16, 18, 13]},\n",
    "    {'Nom': 'Durand', 'Prenom': 'Paul', 'Age': 23, 'Notes': [11, 14, 16, 12]},\n",
    "    {'Nom': 'Petit', 'Prenom': 'Lucie', 'Age': 24, 'Notes': [13, 15, 17, 15]}\n",
    "]\n",
    "\n",
    "print(eleves)"
   ]
  },
  {
   "cell_type": "code",
   "execution_count": 74,
   "metadata": {},
   "outputs": [
    {
     "name": "stdout",
     "output_type": "stream",
     "text": [
      "[\n",
      "    {\n",
      "        \"Nom\": \"Dupont\",\n",
      "        \"Prenom\": \"Jean\",\n",
      "        \"Age\": 25,\n",
      "        \"Notes\": [\n",
      "            12,\n",
      "            15,\n",
      "            17,\n",
      "            14\n",
      "        ]\n",
      "    },\n",
      "    {\n",
      "        \"Nom\": \"Martin\",\n",
      "        \"Prenom\": \"Marie\",\n",
      "        \"Age\": 22,\n",
      "        \"Notes\": [\n",
      "            14,\n",
      "            16,\n",
      "            18,\n",
      "            13\n",
      "        ]\n",
      "    },\n",
      "    {\n",
      "        \"Nom\": \"Durand\",\n",
      "        \"Prenom\": \"Paul\",\n",
      "        \"Age\": 23,\n",
      "        \"Notes\": [\n",
      "            11,\n",
      "            14,\n",
      "            16,\n",
      "            12\n",
      "        ]\n",
      "    },\n",
      "    {\n",
      "        \"Nom\": \"Petit\",\n",
      "        \"Prenom\": \"Lucie\",\n",
      "        \"Age\": 24,\n",
      "        \"Notes\": [\n",
      "            13,\n",
      "            15,\n",
      "            17,\n",
      "            15\n",
      "        ]\n",
      "    }\n",
      "]\n"
     ]
    }
   ],
   "source": [
    "import json\n",
    "\n",
    "eleves_json = json.dumps(eleves, indent=4)\n",
    "print(eleves_json)"
   ]
  },
  {
   "cell_type": "code",
   "execution_count": 80,
   "metadata": {},
   "outputs": [
    {
     "data": {
      "text/plain": [
       "0"
      ]
     },
     "execution_count": 80,
     "metadata": {},
     "output_type": "execute_result"
    }
   ],
   "source": [
    "eleves[0].get(\"Niveau\", 0)"
   ]
  },
  {
   "cell_type": "code",
   "execution_count": null,
   "metadata": {},
   "outputs": [],
   "source": []
  }
 ],
 "metadata": {
  "kernelspec": {
   "display_name": "base",
   "language": "python",
   "name": "python3"
  },
  "language_info": {
   "codemirror_mode": {
    "name": "ipython",
    "version": 3
   },
   "file_extension": ".py",
   "mimetype": "text/x-python",
   "name": "python",
   "nbconvert_exporter": "python",
   "pygments_lexer": "ipython3",
   "version": "3.12.3"
  }
 },
 "nbformat": 4,
 "nbformat_minor": 2
}
