{
 "cells": [
  {
   "cell_type": "code",
   "execution_count": 40,
   "metadata": {},
   "outputs": [
    {
     "name": "stdout",
     "output_type": "stream",
     "text": [
      "[1, 2, 3, 4, 5, 2, 4]\n",
      "[1, 2, 3, 4, 5, 2, 4, 6]\n"
     ]
    }
   ],
   "source": [
    "ma_list = [1, 2, 3, 4, 5, 2, 4]\n",
    "\n",
    "print(ma_list)\n",
    "\n",
    "ma_list.append(6) # ajoute un élément à la fin de la liste\n",
    "print(ma_list)"
   ]
  },
  {
   "cell_type": "code",
   "execution_count": 41,
   "metadata": {},
   "outputs": [
    {
     "name": "stdout",
     "output_type": "stream",
     "text": [
      "<class 'list'>\n",
      "1\n",
      "2\n",
      "6\n",
      "6\n"
     ]
    }
   ],
   "source": [
    "print(type(ma_list))\n",
    "\n",
    "print(ma_list[0]) # affiche le premier élément de la liste\n",
    "print(ma_list[1]) # affiche le deuxième élément de la liste\n",
    "print(ma_list[7]) # affiche le dernier élément de la liste\n",
    "print(ma_list[-1]) # affiche le dernier élément de la liste"
   ]
  },
  {
   "cell_type": "code",
   "execution_count": 42,
   "metadata": {},
   "outputs": [
    {
     "name": "stdout",
     "output_type": "stream",
     "text": [
      "[2, 3, 4, 5, 2, 4, 6]\n",
      "[1, 2, 3, 4]\n"
     ]
    }
   ],
   "source": [
    "print(ma_list[1:]) # affiche tous les éléments de la liste à partir du deuxième\n",
    "\n",
    "print(ma_list[:4]) # affiche tous les éléments de la liste jusqu'au quatrième\n"
   ]
  },
  {
   "cell_type": "code",
   "execution_count": 43,
   "metadata": {},
   "outputs": [
    {
     "name": "stdout",
     "output_type": "stream",
     "text": [
      "['I', 'Love', 'Python']\n"
     ]
    }
   ],
   "source": [
    "new_list = [\"I\",\"Love\",\"Python\"]\n",
    "\n",
    "print(new_list)"
   ]
  },
  {
   "cell_type": "code",
   "execution_count": 44,
   "metadata": {},
   "outputs": [
    {
     "name": "stdout",
     "output_type": "stream",
     "text": [
      "Python\n"
     ]
    }
   ],
   "source": [
    "print(new_list[-1])\n",
    "\n",
    "new_list[1] = \"Hate\" # remplace le deuxième élément de la liste"
   ]
  },
  {
   "cell_type": "code",
   "execution_count": 45,
   "metadata": {},
   "outputs": [
    {
     "name": "stdout",
     "output_type": "stream",
     "text": [
      "['I', 'Hate', 'Python']\n"
     ]
    }
   ],
   "source": [
    "print(new_list)"
   ]
  },
  {
   "cell_type": "code",
   "execution_count": 46,
   "metadata": {},
   "outputs": [
    {
     "name": "stdout",
     "output_type": "stream",
     "text": [
      "[[1, 2, 3], [4, 5, 6], [7, 8, 9]]\n",
      "6\n"
     ]
    }
   ],
   "source": [
    "list_2D = [[1,2,3],[4,5,6],[7,8,9]]\n",
    "\n",
    "print(list_2D)\n",
    "\n",
    "print(list_2D[1][2]) # affiche le premier élément de la première liste"
   ]
  },
  {
   "cell_type": "code",
   "execution_count": 47,
   "metadata": {},
   "outputs": [
    {
     "name": "stdout",
     "output_type": "stream",
     "text": [
      "[[1, 2, 3], [4, 5, 10], [7, 8, 9]]\n"
     ]
    }
   ],
   "source": [
    "list_2D[1][2] = 10 # remplace le premier élément de la première liste\n",
    "\n",
    "print(list_2D)"
   ]
  },
  {
   "cell_type": "code",
   "execution_count": 48,
   "metadata": {},
   "outputs": [
    {
     "data": {
      "text/plain": [
       "[[4, 5, 10]]"
      ]
     },
     "execution_count": 48,
     "metadata": {},
     "output_type": "execute_result"
    }
   ],
   "source": [
    "list_2D[0:2][1:]"
   ]
  },
  {
   "cell_type": "code",
   "execution_count": 49,
   "metadata": {},
   "outputs": [
    {
     "name": "stdout",
     "output_type": "stream",
     "text": [
      "1\n",
      "2\n",
      "3\n",
      "4\n",
      "5\n",
      "2\n",
      "4\n",
      "6\n",
      "0 1\n",
      "1 2\n",
      "2 3\n",
      "3 4\n",
      "4 5\n",
      "5 2\n",
      "6 4\n",
      "7 6\n",
      "0 1\n",
      "1 2\n",
      "2 3\n",
      "3 4\n",
      "4 5\n",
      "5 2\n",
      "6 4\n",
      "7 6\n"
     ]
    }
   ],
   "source": [
    "# Parcourir une liste\n",
    "for el in ma_list:\n",
    "    print(el)\n",
    "\n",
    "# Parcourir une liste avec l'index\n",
    "for i, el in enumerate(ma_list):\n",
    "    print(i, el)\n",
    "\n",
    "# Parcourir une liste avec l'index et la valeur\n",
    "\n",
    "for i in range(len(ma_list)):\n",
    "    print(i, ma_list[i])\n",
    "    "
   ]
  },
  {
   "cell_type": "code",
   "execution_count": 50,
   "metadata": {},
   "outputs": [
    {
     "name": "stdout",
     "output_type": "stream",
     "text": [
      "[1, 2, 3, 4, 5, 2, 4, 6]\n",
      "2\n",
      "1\n",
      "Nombre d'élement 8\n",
      "[1, 2, 3, 3, 5, 2, 4, 6, 1]\n"
     ]
    }
   ],
   "source": [
    "print(ma_list) # affiche la liste\n",
    "print(ma_list.count(2)) # compte le nombre d'éléments 2 dans la liste\n",
    "print(ma_list.index(2)) # affiche l'index de l'élément 2\n",
    "print(\"Nombre d'élement\", len(ma_list)) # affiche la longueur de la liste\n",
    "ma_list.append(1) # ajoute un élément à la fin de la liste\n",
    "ma_list.append(2) # ajoute un élément à la fin de la liste\n",
    "ma_list.pop() # supprime le dernier élément de la liste\n",
    "ma_list.remove(4) # supprime l'élément 1 de la liste\n",
    "ma_list.insert(2, 3) # insère l'élément 3 à la position 0\n",
    "print(ma_list)"
   ]
  },
  {
   "cell_type": "code",
   "execution_count": 51,
   "metadata": {},
   "outputs": [
    {
     "name": "stdout",
     "output_type": "stream",
     "text": [
      "[1, 3, 3, 5, 4, 6, 1]\n"
     ]
    }
   ],
   "source": [
    "while ma_list.count(2) > 0:\n",
    "    ma_list.remove(2)\n",
    "\n",
    "print(ma_list)"
   ]
  },
  {
   "cell_type": "code",
   "execution_count": 52,
   "metadata": {},
   "outputs": [
    {
     "name": "stdout",
     "output_type": "stream",
     "text": [
      "[1, 3, 3, 5, 4, 6, 1]\n"
     ]
    }
   ],
   "source": [
    "print(ma_list)"
   ]
  },
  {
   "cell_type": "code",
   "execution_count": 53,
   "metadata": {},
   "outputs": [
    {
     "name": "stdout",
     "output_type": "stream",
     "text": [
      "[1, 1, 3, 3, 4, 5, 6]\n",
      "[6, 5, 4, 3, 3, 1, 1]\n"
     ]
    }
   ],
   "source": [
    "ma_list.sort() # trie la liste\n",
    "print(ma_list)\n",
    "\n",
    "ma_list.reverse() # inverse la liste\n",
    "print(ma_list)\n",
    "\n",
    "\n"
   ]
  },
  {
   "cell_type": "code",
   "execution_count": 54,
   "metadata": {},
   "outputs": [
    {
     "name": "stdout",
     "output_type": "stream",
     "text": [
      "ma_list [6, 5, 4, 3, 3, 1, 1]\n",
      "ma_list2 [6, 5, 4, 3, 3, 1, 1]\n",
      "ma_list3 [6, 5, 4, 3, 3, 1, 1]\n",
      "ma_list [10, 5, 4, 3, 3, 1, 1]\n",
      "ma_list3 [10, 5, 4, 3, 3, 1, 1]\n",
      "ma_list [10, 5, 4, 3, 3, 1, 1]\n",
      "ma_list2 [20, 5, 4, 3, 3, 1, 1]\n"
     ]
    }
   ],
   "source": [
    "ma_list2 = ma_list.copy() # copie la liste\n",
    "ma_list3 = ma_list # copie le nom de la liste\n",
    "\n",
    "print(\"ma_list\",ma_list)\n",
    "print(\"ma_list2\",ma_list2)\n",
    "print(\"ma_list3\",ma_list3)\n",
    "\n",
    "ma_list3[0] = 10 # modifie le premier élément de la liste\n",
    "print(\"ma_list\",ma_list)\n",
    "print(\"ma_list3\",ma_list3)\n",
    "\n",
    "ma_list2[0] = 20 # modifie le premier élément de la liste\n",
    "print(\"ma_list\",ma_list)\n",
    "print(\"ma_list2\",ma_list2)\n"
   ]
  },
  {
   "cell_type": "code",
   "execution_count": 62,
   "metadata": {},
   "outputs": [
    {
     "name": "stdout",
     "output_type": "stream",
     "text": [
      "[1, 2, 3, 4, 5, 6]\n"
     ]
    }
   ],
   "source": [
    "# oppération sur les listes\n",
    "\n",
    "list1 = [1,2,3]\n",
    "list2 = [4,5,6]\n",
    "\n",
    "list3 = list1 + list2 # concatène les deux listes\n",
    "print(list3)"
   ]
  },
  {
   "cell_type": "code",
   "execution_count": 56,
   "metadata": {},
   "outputs": [],
   "source": [
    "import numpy as np\n"
   ]
  },
  {
   "cell_type": "code",
   "execution_count": 64,
   "metadata": {},
   "outputs": [
    {
     "name": "stdout",
     "output_type": "stream",
     "text": [
      "[5 7 9]\n",
      "[-3 -3 -3]\n",
      "[ 4 10 18]\n",
      "[0.25 0.4  0.5 ]\n",
      "[1 2 3]\n",
      "[  1  32 729]\n",
      "[1 4 9]\n"
     ]
    }
   ],
   "source": [
    "list1 = np.array([1,2,3])\n",
    "list2 = np.array([4,5,6])\n",
    "\n",
    "list3 = list1 + list2 # additionne les deux listes\n",
    "print(list3)\n",
    "list3 = list1 - list2 # soustrait les deux listes\n",
    "print(list3)\n",
    "list3 = list1 * list2 # multiplie les deux listes\n",
    "print(list3)\n",
    "list3 = list1 / list2 # divise les deux listes\n",
    "print(list3)\n",
    "list3 = list1 % list2 # modulo les deux listes\n",
    "print(list3)\n",
    "list3 = list1 ** list2 # puissance les deux listes\n",
    "print(list3)\n",
    "list3 = list1 ** 2 # puissance les deux listes\n",
    "\n",
    "\n",
    "print(list3)"
   ]
  },
  {
   "cell_type": "code",
   "execution_count": 58,
   "metadata": {},
   "outputs": [
    {
     "name": "stdout",
     "output_type": "stream",
     "text": [
      "[5 7 9]\n"
     ]
    }
   ],
   "source": [
    "print(list3)"
   ]
  },
  {
   "cell_type": "code",
   "execution_count": 59,
   "metadata": {},
   "outputs": [
    {
     "name": "stdout",
     "output_type": "stream",
     "text": [
      "(1, 2, 3, 4, 5, 2, 4)\n",
      "<class 'tuple'>\n",
      "1\n",
      "2\n"
     ]
    }
   ],
   "source": [
    "my_tuple = (1, 2, 3, 4, 5, 2, 4)\n",
    "\n",
    "print(my_tuple)\n",
    "\n",
    "print(type(my_tuple))\n",
    "\n",
    "print(my_tuple[0]) # affiche le premier élément du tuple\n",
    "\n",
    "print(my_tuple[1]) # affiche le deuxième élément du tuple\n",
    "\n"
   ]
  },
  {
   "cell_type": "code",
   "execution_count": 60,
   "metadata": {},
   "outputs": [
    {
     "ename": "TypeError",
     "evalue": "'tuple' object does not support item assignment",
     "output_type": "error",
     "traceback": [
      "\u001b[0;31m---------------------------------------------------------------------------\u001b[0m",
      "\u001b[0;31mTypeError\u001b[0m                                 Traceback (most recent call last)",
      "Cell \u001b[0;32mIn[60], line 1\u001b[0m\n\u001b[0;32m----> 1\u001b[0m \u001b[43mmy_tuple\u001b[49m\u001b[43m[\u001b[49m\u001b[38;5;241;43m1\u001b[39;49m\u001b[43m]\u001b[49m \u001b[38;5;241m=\u001b[39m \u001b[38;5;241m10\u001b[39m \u001b[38;5;66;03m# modifie le deuxième élément du tuple\u001b[39;00m\n",
      "\u001b[0;31mTypeError\u001b[0m: 'tuple' object does not support item assignment"
     ]
    }
   ],
   "source": [
    "\n",
    "my_tuple[1] = 10 # modifie le deuxième élément du tuple"
   ]
  },
  {
   "cell_type": "code",
   "execution_count": 32,
   "metadata": {},
   "outputs": [],
   "source": [
    "my_list2 = [x for x in range(10)] # crée une liste de 0 à 9"
   ]
  },
  {
   "cell_type": "code",
   "execution_count": null,
   "metadata": {},
   "outputs": [],
   "source": [
    "my_list2= []\n",
    "\n",
    "for x in range(10):\n",
    "    my_list2.append(x)"
   ]
  },
  {
   "cell_type": "code",
   "execution_count": 33,
   "metadata": {},
   "outputs": [
    {
     "name": "stdout",
     "output_type": "stream",
     "text": [
      "[0, 1, 2, 3, 4, 5, 6, 7, 8, 9]\n"
     ]
    }
   ],
   "source": [
    "print(my_list2)"
   ]
  },
  {
   "cell_type": "code",
   "execution_count": null,
   "metadata": {},
   "outputs": [
    {
     "name": "stdout",
     "output_type": "stream",
     "text": [
      "exercise de devinette\n",
      "Pensee a un nombre entre 0 et 100\n",
      "Est-ce que le nombre est plus grand que 50 ?Est-ce que le nombre est plus grand que 25 ?"
     ]
    }
   ],
   "source": [
    "print(\"exercise de devinette\")\n",
    "\n",
    "print(\"Pensee a un nombre entre 0 et 100\")\n",
    "\n",
    "min = 0\n",
    "max = 100\n",
    "i = 1\n",
    "mid = 50\n",
    "while i<8:\n",
    "\n",
    "    if min == max:\n",
    "        print(\"Le nombre est\", mid)\n",
    "        break\n",
    "    print(\"Est-ce que le nombre est plus grand que\", mid, \"?\", end=\"\")\n",
    "    ouinon = input(\"oui ou non\")\n",
    "    if ouinon == \"oui\":\n",
    "        min = mid\n",
    "    else:\n",
    "        max = mid\n",
    "    mid = (min + max) // 2\n",
    "    i += 1\n"
   ]
  },
  {
   "cell_type": "code",
   "execution_count": null,
   "metadata": {},
   "outputs": [],
   "source": []
  }
 ],
 "metadata": {
  "kernelspec": {
   "display_name": "base",
   "language": "python",
   "name": "python3"
  },
  "language_info": {
   "codemirror_mode": {
    "name": "ipython",
    "version": 3
   },
   "file_extension": ".py",
   "mimetype": "text/x-python",
   "name": "python",
   "nbconvert_exporter": "python",
   "pygments_lexer": "ipython3",
   "version": "3.12.3"
  }
 },
 "nbformat": 4,
 "nbformat_minor": 2
}
