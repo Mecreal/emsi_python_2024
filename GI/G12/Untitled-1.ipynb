{
 "cells": [
  {
   "cell_type": "code",
   "execution_count": 3,
   "metadata": {},
   "outputs": [],
   "source": [
    "import random as r"
   ]
  },
  {
   "cell_type": "code",
   "execution_count": 26,
   "metadata": {},
   "outputs": [
    {
     "name": "stdout",
     "output_type": "stream",
     "text": [
      "[8, 8, 9, 3, 2, 8, 4, 9, 8, 8, 7, 9, 8, 6, 2, 1, 6, 8, 3, 10, 6, 8, 7, 8, 1, 10, 4, 1, 6, 5, 1, 7, 3, 10, 7, 5, 2, 1, 6, 8, 5, 7, 7, 4, 5, 8, 9, 3, 9, 7, 9, 9, 10, 8, 6, 1, 3, 2, 9, 6, 3, 3, 6, 2, 2, 1, 4, 10, 6, 1, 3, 4, 4, 9, 5, 2, 10, 10, 8, 2, 5, 8, 7, 6, 8, 5, 1, 8, 9, 10, 5, 1, 6, 7, 1, 8, 1, 4, 4, 1, 9, 10, 3, 1, 3, 7, 1, 6, 3, 2, 7, 5, 9, 10, 9, 9, 9, 1, 8, 5, 9, 5, 1, 10, 2, 1, 7, 2, 10, 3, 9, 1, 2, 4, 9, 7, 10, 4, 3, 8, 8, 5, 8, 8, 6, 8, 3, 6, 7, 8, 4, 7, 7, 9, 4, 10, 10, 2, 10, 2, 9, 3, 8, 10, 9, 2, 4, 10, 5, 6, 3, 2, 3, 6, 7, 10, 3, 4, 3, 8, 2, 1, 8, 3, 8, 4, 4, 6, 1, 8, 7, 10, 9, 3, 3, 2, 8, 9, 2, 1, 7, 10, 2, 7, 10, 2, 1, 10, 1, 6, 8, 4, 6, 2, 10, 2, 6, 2, 9, 6, 6, 8, 1, 3, 5, 9, 7, 1, 7, 6, 3, 2, 1, 6, 2, 10, 6, 9, 3, 5, 2, 2, 7, 8, 10, 9, 9, 8, 7, 5, 9, 10, 3, 8, 5, 1, 4, 4, 3, 9, 5, 3, 8, 9, 2, 6, 2, 6, 1, 1, 9, 7, 9, 4, 8, 3, 6, 6, 8, 4, 7, 10, 2, 9, 3, 6, 8, 4, 4, 6, 7, 10, 7, 9, 7, 4, 10, 2, 9, 7, 4, 7, 6, 2, 6, 9, 6, 4, 6, 3, 9, 3, 8, 8, 1, 4, 2, 10, 5, 7, 6, 9, 4, 9, 5, 9, 9, 7, 2, 8, 5, 2, 3, 3, 5, 7, 6, 2, 7, 10, 6, 1, 2, 9, 6, 6, 3, 2, 5, 9, 5, 6, 4, 1, 9, 5, 1, 7, 1, 10, 5, 5, 6, 9, 5, 1, 6, 4, 5, 3, 9, 8, 10, 7, 9, 7, 3, 6, 6, 8, 1, 6, 8, 4, 8, 2, 2, 6, 9, 2, 5, 1, 6, 6, 7, 5, 8, 7, 10, 5, 4, 2, 3, 7, 8, 10, 2, 2, 1, 10, 6, 9, 5, 2, 1, 10, 10, 1, 9, 9, 6, 6, 8, 8, 8, 9, 7, 9, 1, 5, 3, 5, 4, 4, 7, 3, 1, 6, 7, 10, 2, 6, 5, 1, 2, 7, 2, 2, 4, 7, 6, 8, 2, 3, 9, 2, 6, 5, 9, 9, 4, 1, 10, 4, 2, 4, 2, 1, 7, 10, 9, 9, 6, 9, 5, 6, 8, 6, 1, 4, 8, 8, 4, 8, 9, 1, 10, 5, 4, 8, 3, 3, 9, 6, 8, 7, 5, 8, 8, 4, 10, 3, 1, 10, 9, 1, 5, 3, 5, 8, 3, 8, 6, 7, 2, 5, 9, 5, 3, 3, 4, 10, 1, 9, 1, 3, 1, 6, 9, 7, 1, 4, 8, 9, 3, 4, 1, 3, 2, 1, 2, 3, 9, 2, 3, 3, 6, 5, 6, 8, 10, 4, 6, 3, 1, 3, 4, 5, 4, 1, 6, 2, 1, 3, 10, 7, 3, 3, 2, 3, 3, 6, 8, 8, 6, 8, 10, 10, 7, 2, 7, 10, 7, 9, 1, 9, 2, 7, 9, 5, 6, 1, 2, 8, 6, 2, 7, 3, 9, 10, 4, 2, 10, 4, 5, 3, 10, 6, 5, 6, 2, 3, 10, 4, 3, 9, 9, 4, 9, 6, 7, 8, 8, 5, 8, 7, 6, 4, 4, 1, 10, 9, 7, 8, 3, 5, 6, 9, 7, 6, 2, 9, 1, 8, 5, 1, 10, 9, 3, 6, 6, 6, 1, 4, 4, 8, 7, 8, 5, 5, 8, 10, 3, 1, 1, 6, 1, 6, 5, 3, 4, 3, 5, 2, 2, 10, 7, 5, 9, 7, 3, 3, 8, 6, 9, 2, 3, 3, 1, 3, 4, 5, 7, 7, 4, 6, 4, 8, 3, 6, 8, 10, 8, 10, 8, 5, 7, 6, 5, 2, 1, 2, 5, 3, 6, 10, 10, 3, 4, 4, 5, 9, 6, 8, 1, 8, 9, 1, 1, 7, 5, 9, 10, 5, 1, 2, 10, 2, 2, 1, 9, 4, 7, 8, 4, 6, 3, 10, 10, 6, 7, 10, 7, 9, 10, 5, 3, 4, 6, 7, 10, 9, 4, 8, 2, 10, 10, 10, 9, 10, 10, 3, 7, 9, 4, 1, 9, 9, 4, 2, 2, 9, 5, 1, 9, 4, 8, 6, 4, 1, 6, 1, 8, 7, 4, 9, 3, 9, 2, 8, 10, 1, 4, 6, 7, 10, 1, 3, 7, 8, 3, 7, 3, 7, 4, 1, 9, 5, 8, 6, 9, 2, 8, 1, 10, 8, 2, 1, 10, 2, 6, 6, 9, 10, 10, 2, 8, 10, 6, 10, 1, 1, 2, 3, 1, 9, 5, 9, 2, 9, 7, 3, 5, 10, 9, 9, 10, 7, 10, 3, 6, 1, 3, 3, 2, 10, 1, 7, 4, 8, 9, 2, 5, 3, 8, 6, 3, 7, 5, 8, 2, 4, 7, 1, 9, 1, 6, 5, 7, 8, 9, 5, 2, 5, 9, 3, 5, 7, 1, 3, 6, 4, 7, 8, 10, 4, 8, 3, 3, 9, 4, 7, 2, 10, 4, 8, 1, 10, 3, 9, 2, 7, 1, 9, 6, 7, 10, 10, 4, 1, 3, 10, 2, 7, 4, 6, 1, 3, 10, 9, 1, 8, 1, 2, 10, 5, 7, 6, 5, 4, 5, 7, 1, 7, 10, 7, 6, 8, 4, 10, 6, 9, 1, 5, 2, 7, 6, 4, 4, 1, 1, 4, 5, 8, 9, 6, 2, 2, 8, 6, 6, 2, 2, 3, 4, 10, 9, 9, 2, 2, 4, 2, 7, 8, 7, 8, 9, 5, 1, 1]\n"
     ]
    }
   ],
   "source": [
    "list_al = [r.randint(1,10) for i in range(1000)]\n",
    "print(list_al)"
   ]
  },
  {
   "cell_type": "code",
   "execution_count": 3,
   "metadata": {},
   "outputs": [
    {
     "name": "stdout",
     "output_type": "stream",
     "text": [
      "[0, 1, 2, 3, 4, 5, 6, 7, 8, 9]\n"
     ]
    }
   ],
   "source": [
    "list_r = []\n",
    "\n",
    "for i in range(10):\n",
    "    list_r.append(i)\n",
    "print(list_r)"
   ]
  },
  {
   "cell_type": "code",
   "execution_count": 4,
   "metadata": {},
   "outputs": [
    {
     "name": "stdout",
     "output_type": "stream",
     "text": [
      "{1, 2, 3, 4, 5, 6, 7, 8, 9, 10}\n"
     ]
    }
   ],
   "source": [
    "set_al = set(list_al) #set is a collection of unique elements\n",
    "\n",
    "print(set_al)"
   ]
  },
  {
   "cell_type": "code",
   "execution_count": 5,
   "metadata": {},
   "outputs": [
    {
     "name": "stdout",
     "output_type": "stream",
     "text": [
      "{1, 4, 6, 8, 10, 12, 14, 16, 18, 20}\n"
     ]
    }
   ],
   "source": [
    "set2 = {1,4,6,8,10,12,14,16,18,20}\n",
    "print(set2)"
   ]
  },
  {
   "cell_type": "code",
   "execution_count": 6,
   "metadata": {},
   "outputs": [
    {
     "name": "stdout",
     "output_type": "stream",
     "text": [
      "{1, 2, 3, 4, 5, 6, 7, 8, 9, 10, 12, 14, 16, 18, 20}\n"
     ]
    }
   ],
   "source": [
    "set_union = set_al.union(set2)\n",
    "print(set_union)"
   ]
  },
  {
   "cell_type": "code",
   "execution_count": 7,
   "metadata": {},
   "outputs": [
    {
     "name": "stdout",
     "output_type": "stream",
     "text": [
      "{1, 4, 6, 8, 10}\n"
     ]
    }
   ],
   "source": [
    "set_intersection = set_al.intersection(set2)\n",
    "print(set_intersection)"
   ]
  },
  {
   "cell_type": "code",
   "execution_count": 8,
   "metadata": {},
   "outputs": [
    {
     "name": "stdout",
     "output_type": "stream",
     "text": [
      "{2, 3, 5, 7, 9}\n"
     ]
    }
   ],
   "source": [
    "set_difference = set_al.difference(set2)\n",
    "print(set_difference)"
   ]
  },
  {
   "cell_type": "code",
   "execution_count": 9,
   "metadata": {},
   "outputs": [
    {
     "name": "stdout",
     "output_type": "stream",
     "text": [
      "{2, 3, 5, 7, 9, 12, 14, 16, 18, 20}\n"
     ]
    }
   ],
   "source": [
    "set_difference_sym = set_al.symmetric_difference(set2)\n",
    "print(set_difference_sym)"
   ]
  },
  {
   "cell_type": "code",
   "execution_count": 10,
   "metadata": {},
   "outputs": [
    {
     "name": "stdout",
     "output_type": "stream",
     "text": [
      "{1, 2, 3, 4, 5, 6, 7, 8, 9, 10, 100}\n"
     ]
    }
   ],
   "source": [
    "set_al.add(100) #add element to set\n",
    "print(set_al)"
   ]
  },
  {
   "cell_type": "code",
   "execution_count": 11,
   "metadata": {},
   "outputs": [
    {
     "name": "stdout",
     "output_type": "stream",
     "text": [
      "{1, 2, 3, 4, 5, 6, 7, 8, 9, 10}\n"
     ]
    }
   ],
   "source": [
    "set_al.remove(100) #remove element from set\n",
    "print(set_al)"
   ]
  },
  {
   "cell_type": "code",
   "execution_count": 12,
   "metadata": {},
   "outputs": [],
   "source": [
    "list1 = [1,2,3,4,5,6,7,8,9,10,1,4,5,6,4]"
   ]
  },
  {
   "cell_type": "code",
   "execution_count": 5,
   "metadata": {},
   "outputs": [
    {
     "name": "stdout",
     "output_type": "stream",
     "text": [
      "[{'Marque': 'HP', 'Modele': 'Elitebook', 'Disk': {'type': 'SSD', 'size': 512}, 'RAM': 8, 'CPU': 'i5'}, {'Marque': 'Dell', 'Modele': 'Latitude', 'Disk': {'type': 'HDD', 'size': 256}, 'RAM': 4, 'CPU': 'i3'}]\n"
     ]
    }
   ],
   "source": [
    "ordi_anas= {\n",
    "    \"Marque\": \"HP\",\n",
    "    \"Modele\": \"Elitebook\",\n",
    "    \"Disk\": {\"type\": \"SSD\", \"size\": 512},\n",
    "    \"RAM\": 8,\n",
    "    \"CPU\": \"i5\",\n",
    "}\n",
    "\n",
    "odri_idriss = {\n",
    "    \"Marque\": \"Dell\",\n",
    "    \"Modele\": \"Latitude\",\n",
    "    \"Disk\": {\"type\": \"HDD\", \"size\": 256},\n",
    "    \"RAM\": 4,\n",
    "    \"CPU\": \"i3\",\n",
    "}\n",
    "\n",
    "list_ordi = [ordi_anas, odri_idriss]\n",
    "\n",
    "\n",
    "print(list_ordi)\n",
    "\n"
   ]
  },
  {
   "cell_type": "code",
   "execution_count": 13,
   "metadata": {},
   "outputs": [
    {
     "name": "stdout",
     "output_type": "stream",
     "text": [
      "[1, 2, 3, 4, 5, 6, 7, 8, 9, 10]\n"
     ]
    }
   ],
   "source": [
    "elemet_rep = []\n",
    "for i in set(list1):\n",
    "    elemet_rep.append(i)\n",
    "\n",
    "print(elemet_rep)"
   ]
  },
  {
   "cell_type": "code",
   "execution_count": 6,
   "metadata": {},
   "outputs": [
    {
     "name": "stdout",
     "output_type": "stream",
     "text": [
      "{'Nom': 'Jean', 'Prenom': 'Dupont', 'Age': 25, 'Classe': 'Terminale S', 'Notes': [12, 15, 18, 9, 10]}\n"
     ]
    }
   ],
   "source": [
    "Eleve =  {\n",
    "          \"Nom\": \"Jean\",\n",
    "          \"Prenom\": \"Dupont\",\n",
    "          \"Age\": 25,\n",
    "          \"Classe\": \"Terminale S\",\n",
    "          \"Notes\": [12, 15, 18, 9, 10]\n",
    "          }\n",
    "\n",
    "print(Eleve)"
   ]
  },
  {
   "cell_type": "code",
   "execution_count": 7,
   "metadata": {},
   "outputs": [
    {
     "name": "stdout",
     "output_type": "stream",
     "text": [
      "Jean\n",
      "{'Nom': 'Jean', 'Prenom': 'Dupont', 'Age': 20, 'Classe': 'Terminale S', 'Notes': [12, 15, 18, 9, 10]}\n",
      "{'Nom': 'Jean', 'Prenom': 'Dupont', 'Age': 20, 'Classe': 'Terminale S', 'Notes': [12, 15, 18, 9, 10], 'adresse': '12 rue de la paix'}\n"
     ]
    }
   ],
   "source": [
    "print(Eleve[\"Nom\"]) #access to the value of the key \"Nom\"\n",
    "\n",
    "Eleve[\"Age\"] = 20 #modify the value of the key \"Age\"\n",
    "print(Eleve)\n",
    "\n",
    "Eleve['adresse'] = \"12 rue de la paix\" #add a new key \"adresse\"\n",
    "print(Eleve)"
   ]
  },
  {
   "cell_type": "code",
   "execution_count": 8,
   "metadata": {},
   "outputs": [
    {
     "name": "stdout",
     "output_type": "stream",
     "text": [
      "{'Nom': 'Jean', 'Prenom': 'Dupont', 'Age': 20, 'Classe': 'Terminale S', 'Notes': [12, 15, 18, 9, 10]}\n"
     ]
    }
   ],
   "source": [
    "del(Eleve['adresse']) #delete the key \"adresse\"\n",
    "\n",
    "print(Eleve)"
   ]
  },
  {
   "cell_type": "code",
   "execution_count": 17,
   "metadata": {},
   "outputs": [
    {
     "name": "stdout",
     "output_type": "stream",
     "text": [
      "{'Nom': 'Jean', 'Prenom': 'Dupont', 'Age': 20, 'Classe': 'Terminale S', 'Notes': [12, 15, 18, 9, 10], 'adresse': '12 rue de la paix', 'Ville': 'Paris'}\n",
      "{'Nom': 'Jean', 'Prenom': 'Dupont', 'Age': 20, 'Classe': 'Terminale S', 'Notes': [12, 15, 18, 9, 10], 'adresse': '15 rue Soumiya Derb ghalef', 'Ville': 'Casablanca'}\n"
     ]
    }
   ],
   "source": [
    "Eleve.update({\"adresse\": \"12 rue de la paix\", \"Ville\": \"Paris\"}) #add multiple keys\n",
    "print(Eleve)\n",
    "Eleve.update({\"adresse\": \"15 rue Soumiya Derb ghalef\", \"Ville\": \"Casablanca\"}) #add multiple keys\n",
    "print(Eleve)"
   ]
  },
  {
   "cell_type": "code",
   "execution_count": 18,
   "metadata": {},
   "outputs": [
    {
     "name": "stdout",
     "output_type": "stream",
     "text": [
      "{'Nom': 'Jean', 'Prenom': 'Dupont', 'Age': 20, 'Classe': 'Terminale S', 'Notes': [12, 15, 18, 9, 10], 'adresse': '15 rue Soumiya Derb ghalef'}\n"
     ]
    }
   ],
   "source": [
    "Eleve.pop(\"Ville\") #delete the key \"Ville\"\n",
    "print(Eleve)"
   ]
  },
  {
   "cell_type": "code",
   "execution_count": 10,
   "metadata": {},
   "outputs": [
    {
     "name": "stdout",
     "output_type": "stream",
     "text": [
      "[12, 15, 18, 9, 10]\n"
     ]
    }
   ],
   "source": [
    "print(Eleve['Notes'])"
   ]
  },
  {
   "cell_type": "code",
   "execution_count": 11,
   "metadata": {},
   "outputs": [],
   "source": [
    "Eleve[\"Notes\"][3] = 10 #modify the value of the 4th element of the list \"Notes\""
   ]
  },
  {
   "cell_type": "code",
   "execution_count": 12,
   "metadata": {},
   "outputs": [
    {
     "name": "stdout",
     "output_type": "stream",
     "text": [
      "{'Nom': 'Jean', 'Prenom': 'Dupont', 'Age': 20, 'Classe': 'Terminale S', 'Notes': [12, 15, 18, 10, 10]}\n"
     ]
    }
   ],
   "source": [
    "print(Eleve)"
   ]
  },
  {
   "cell_type": "code",
   "execution_count": 13,
   "metadata": {},
   "outputs": [],
   "source": [
    "Eleve.clear() #delete all the keys and values of the dictionary"
   ]
  },
  {
   "cell_type": "code",
   "execution_count": 14,
   "metadata": {},
   "outputs": [
    {
     "name": "stdout",
     "output_type": "stream",
     "text": [
      "{}\n"
     ]
    }
   ],
   "source": [
    "print(Eleve)"
   ]
  },
  {
   "cell_type": "code",
   "execution_count": 15,
   "metadata": {},
   "outputs": [
    {
     "name": "stdout",
     "output_type": "stream",
     "text": [
      "[{'Nom': 'Jean', 'Prenom': 'Dupont', 'Age': 25, 'Classe': 'Terminale S', 'Notes': [12, 15, 18, 9, 10]}, {'Nom': 'Marie', 'Prenom': 'Curie', 'Age': 22, 'Classe': 'Terminale S', 'Notes': [14, 16, 17, 10, 12]}, {'Nom': 'Albert', 'Prenom': 'Einstein', 'Age': 24, 'Classe': 'Terminale S', 'Notes': [15, 18, 19, 11, 13]}]\n"
     ]
    }
   ],
   "source": [
    "listes_des_eleves = [\n",
    "    {\"Nom\": \"Jean\", \"Prenom\": \"Dupont\", \"Age\": 25, \"Classe\": \"Terminale S\", \"Notes\": [12, 15, 18, 9, 10]},\n",
    "    {\"Nom\": \"Marie\", \"Prenom\": \"Curie\", \"Age\": 22, \"Classe\": \"Terminale S\", \"Notes\": [14, 16, 17, 10, 12]},\n",
    "    {\"Nom\": \"Albert\", \"Prenom\": \"Einstein\", \"Age\": 24, \"Classe\": \"Terminale S\", \"Notes\": [15, 18, 19, 11, 13]}\n",
    "]\n",
    "\n",
    "print(listes_des_eleves)"
   ]
  },
  {
   "cell_type": "code",
   "execution_count": 21,
   "metadata": {},
   "outputs": [
    {
     "data": {
      "text/plain": [
       "[18, 15, 12, 10, 9]"
      ]
     },
     "execution_count": 21,
     "metadata": {},
     "output_type": "execute_result"
    }
   ],
   "source": [
    "listes_des_eleves[0]['Notes'].sort(reverse = True) #sort the list of the first student\n",
    "listes_des_eleves[0]['Notes']"
   ]
  },
  {
   "cell_type": "code",
   "execution_count": 22,
   "metadata": {},
   "outputs": [],
   "source": [
    "import json\n",
    "\n",
    "with open(\"Eleve.json\", \"w\") as f:\n",
    "    json.dump(listes_des_eleves, f)\n"
   ]
  },
  {
   "cell_type": "code",
   "execution_count": 1,
   "metadata": {},
   "outputs": [
    {
     "ename": "NameError",
     "evalue": "name 'listes_des_eleves' is not defined",
     "output_type": "error",
     "traceback": [
      "\u001b[0;31m---------------------------------------------------------------------------\u001b[0m",
      "\u001b[0;31mNameError\u001b[0m                                 Traceback (most recent call last)",
      "Cell \u001b[0;32mIn[1], line 1\u001b[0m\n\u001b[0;32m----> 1\u001b[0m \u001b[38;5;28mprint\u001b[39m(\u001b[43mlistes_des_eleves\u001b[49m)\n",
      "\u001b[0;31mNameError\u001b[0m: name 'listes_des_eleves' is not defined"
     ]
    }
   ],
   "source": [
    "print(listes_des_eleves)"
   ]
  },
  {
   "cell_type": "code",
   "execution_count": 2,
   "metadata": {},
   "outputs": [
    {
     "name": "stdout",
     "output_type": "stream",
     "text": [
      "[{'Nom': 'Jean', 'Prenom': 'Dupont', 'Age': 25, 'Classe': 'Terminale S', 'Notes': [12, 15, 18, 9, 10]}, {'Nom': 'Marie', 'Prenom': 'Curie', 'Age': 22, 'Classe': 'Terminale S', 'Notes': [14, 16, 17, 10, 12]}, {'Nom': 'Albert', 'Prenom': 'Einstein', 'Age': 24, 'Classe': 'Terminale S', 'Notes': [15, 18, 19, 11, 13]}]\n"
     ]
    }
   ],
   "source": [
    "import json\n",
    "with open(\"Eleve.json\", \"r\") as f:\n",
    "    data = json.load(f)\n",
    "\n",
    "print(data)"
   ]
  },
  {
   "cell_type": "code",
   "execution_count": null,
   "metadata": {},
   "outputs": [],
   "source": [
    "dict1 = {\"parametre circuit\": (5,12,220,\"ac\")}\n",
    "\n"
   ]
  },
  {
   "cell_type": "code",
   "execution_count": 23,
   "metadata": {},
   "outputs": [
    {
     "data": {
      "text/plain": [
       "{}"
      ]
     },
     "execution_count": 23,
     "metadata": {},
     "output_type": "execute_result"
    }
   ],
   "source": [
    "Eleve"
   ]
  },
  {
   "cell_type": "code",
   "execution_count": 31,
   "metadata": {},
   "outputs": [
    {
     "data": {
      "text/plain": [
       "dict_items([('Marque', 'HP'), ('Modele', 'Elitebook'), ('Disk', {'type': 'SSD', 'size': 512}), ('RAM', 8), ('CPU', 'i5')])"
      ]
     },
     "execution_count": 31,
     "metadata": {},
     "output_type": "execute_result"
    }
   ],
   "source": [
    "ordi_anas.items()"
   ]
  },
  {
   "cell_type": "code",
   "execution_count": 34,
   "metadata": {},
   "outputs": [
    {
     "name": "stdout",
     "output_type": "stream",
     "text": [
      "Marque : HP\n",
      "Modele : Elitebook\n",
      "Disk : {'type': 'SSD', 'size': 512}\n",
      "RAM : 8\n",
      "CPU : i5\n"
     ]
    }
   ],
   "source": [
    "for k,v in ordi_anas.items():\n",
    "    print(k,\":\",v)"
   ]
  },
  {
   "cell_type": "code",
   "execution_count": 30,
   "metadata": {},
   "outputs": [
    {
     "name": "stdout",
     "output_type": "stream",
     "text": [
      "Hello, anas\n",
      "Hello, salma\n",
      "Hello, idriss\n",
      "Hello, soumiya\n"
     ]
    }
   ],
   "source": [
    "list_nom = ['anas','salma','idriss','soumiya']\n",
    "\n",
    "for name in list_nom:\n",
    "    print(\"Hello,\",name)"
   ]
  },
  {
   "cell_type": "code",
   "execution_count": null,
   "metadata": {},
   "outputs": [],
   "source": []
  }
 ],
 "metadata": {
  "kernelspec": {
   "display_name": "base",
   "language": "python",
   "name": "python3"
  },
  "language_info": {
   "codemirror_mode": {
    "name": "ipython",
    "version": 3
   },
   "file_extension": ".py",
   "mimetype": "text/x-python",
   "name": "python",
   "nbconvert_exporter": "python",
   "pygments_lexer": "ipython3",
   "version": "3.12.3"
  }
 },
 "nbformat": 4,
 "nbformat_minor": 2
}
